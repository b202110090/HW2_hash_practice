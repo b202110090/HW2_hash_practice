{
 "cells": [
  {
   "cell_type": "code",
   "execution_count": 2,
   "outputs": [
    {
     "name": "stdout",
     "output_type": "stream",
     "text": [
      "{'Cheese': 234, 'Pizza': 83, 'Coke': 145, 'Steak': 46, 'Burger': 196, 'Fries': 76, 'Rib': 33, 'Taco': 57, 'Pho': 19, 'Potato': 3}\n",
      "總共有10個單字\n",
      "單字Cheese出現234次\n",
      "單字Pizza出現83次\n",
      "單字Coke出現145次\n",
      "單字Steak出現46次\n",
      "單字Burger出現196次\n",
      "單字Fries出現76次\n",
      "單字Rib出現33次\n",
      "單字Taco出現57次\n",
      "單字Pho出現19次\n",
      "單字Potato出現3次\n"
     ]
    }
   ],
   "source": [
    "#先開檔案\n",
    "f = open('hw2_data.txt')\n",
    "#創一個dict\n",
    "name_dict={}\n",
    "#一行一行讀文件\n",
    "for line in f.readlines():\n",
    "    ##line_no_hang去除換行符號，將原本txt檔案中的文字去除換行符號以後存起來\n",
    "    line_no_hang=line.strip()\n",
    "    ##如果沒有讀過這個單字\n",
    "    if line_no_hang not in name_dict.keys():\n",
    "        ###多建立一個名字進入Dict\n",
    "        name_dict[line_no_hang] = 1\n",
    "    ##已有單字就直接增加一次\n",
    "    else:\n",
    "        name_dict[line_no_hang] += 1\n",
    "#關檔案\n",
    "f.close\n",
    "#顯示dict的狀況用\n",
    "print(name_dict)\n",
    "#顯示總共幾個單字用\n",
    "print('總共有%d個單字'%(len(name_dict)))\n",
    "#清楚輸出答案用，把key和value存成字串\n",
    "list_key = list(name_dict.keys())\n",
    "list_value = list(name_dict.values())\n",
    "#答案一個一個print出來\n",
    "for i in range(len(list_key)):\n",
    "    print('單字%s出現%d次'%(list_key[i],list_value[i]))"
   ],
   "metadata": {
    "collapsed": false,
    "pycharm": {
     "name": "#%%\n"
    }
   }
  },
  {
   "cell_type": "code",
   "execution_count": null,
   "outputs": [],
   "source": [],
   "metadata": {
    "collapsed": false,
    "pycharm": {
     "name": "#%%\n"
    }
   }
  }
 ],
 "metadata": {
  "kernelspec": {
   "display_name": "Python 3",
   "language": "python",
   "name": "python3"
  },
  "language_info": {
   "codemirror_mode": {
    "name": "ipython",
    "version": 2
   },
   "file_extension": ".py",
   "mimetype": "text/x-python",
   "name": "python",
   "nbconvert_exporter": "python",
   "pygments_lexer": "ipython2",
   "version": "2.7.6"
  }
 },
 "nbformat": 4,
 "nbformat_minor": 0
}